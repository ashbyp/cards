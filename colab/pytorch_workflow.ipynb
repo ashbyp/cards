{
  "nbformat": 4,
  "nbformat_minor": 0,
  "metadata": {
    "colab": {
      "name": "pytorch_workflow.ipynb",
      "provenance": [],
      "authorship_tag": "ABX9TyMqVFFa5BEU2nGYHkLZR10G",
      "include_colab_link": true
    },
    "kernelspec": {
      "name": "python3",
      "display_name": "Python 3"
    },
    "language_info": {
      "name": "python"
    }
  },
  "cells": [
    {
      "cell_type": "markdown",
      "metadata": {
        "id": "view-in-github",
        "colab_type": "text"
      },
      "source": [
        "<a href=\"https://colab.research.google.com/github/ashbyp/cards/blob/master/colab/pytorch_workflow.ipynb\" target=\"_parent\"><img src=\"https://colab.research.google.com/assets/colab-badge.svg\" alt=\"Open In Colab\"/></a>"
      ]
    },
    {
      "cell_type": "markdown",
      "source": [
        "## Intro"
      ],
      "metadata": {
        "id": "iG5NlpSodVR1"
      }
    },
    {
      "cell_type": "code",
      "execution_count": 37,
      "metadata": {
        "colab": {
          "base_uri": "https://localhost:8080/"
        },
        "id": "nfTQfXr-Zti6",
        "outputId": "5c37acad-eca4-4b9b-94a9-4a2a6022632a"
      },
      "outputs": [
        {
          "output_type": "stream",
          "name": "stdout",
          "text": [
            "Python:3.7.13 (default, Apr 24 2022, 01:04:09) \n",
            "[GCC 7.5.0]\n",
            "Torch: 1.12.0+cu113\n"
          ]
        }
      ],
      "source": [
        "import torch\n",
        "import sys\n",
        "from torch import nn\n",
        "import matplotlib.pyplot as plt\n",
        "\n",
        "print(f'Python:{sys.version}')\n",
        "print(f'Torch: {torch.__version__}')\n"
      ]
    },
    {
      "cell_type": "markdown",
      "source": [
        "## Data Loading"
      ],
      "metadata": {
        "id": "rx3Fx93tcqSr"
      }
    },
    {
      "cell_type": "code",
      "source": [
        "weight = 0.7\n",
        "bias = 0.3\n",
        "\n",
        "start = 0\n",
        "end = 1\n",
        "step = 0.02\n",
        "X = torch.arange(start, end, step).unsqueeze(dim=1)\n",
        "y = weight * X + bias\n",
        "print(X[:10,:])\n",
        "print(f'X Shape: {X.shape}, Dims: {X.ndim} Len: {len(X)}')\n",
        "print(y[:10,:])\n",
        "print(f'y Shape: {y.shape}, Dims: {y.ndim} Len: {len(y)}')"
      ],
      "metadata": {
        "id": "NxI4qnuhbn5P",
        "colab": {
          "base_uri": "https://localhost:8080/"
        },
        "outputId": "e1334801-f038-4866-d7ac-a43c952bf1a1"
      },
      "execution_count": 41,
      "outputs": [
        {
          "output_type": "stream",
          "name": "stdout",
          "text": [
            "tensor([[0.0000],\n",
            "        [0.0200],\n",
            "        [0.0400],\n",
            "        [0.0600],\n",
            "        [0.0800],\n",
            "        [0.1000],\n",
            "        [0.1200],\n",
            "        [0.1400],\n",
            "        [0.1600],\n",
            "        [0.1800]])\n",
            "X Shape: torch.Size([50, 1]), Dims: 2 Len: 50\n",
            "tensor([[0.3000],\n",
            "        [0.3140],\n",
            "        [0.3280],\n",
            "        [0.3420],\n",
            "        [0.3560],\n",
            "        [0.3700],\n",
            "        [0.3840],\n",
            "        [0.3980],\n",
            "        [0.4120],\n",
            "        [0.4260]])\n",
            "y Shape: torch.Size([50, 1]), Dims: 2 Len: 50\n"
          ]
        }
      ]
    },
    {
      "cell_type": "code",
      "source": [
        "plt.scatter(X, y)\n",
        "plt.show()"
      ],
      "metadata": {
        "colab": {
          "base_uri": "https://localhost:8080/",
          "height": 265
        },
        "id": "FTgUFEeWtq8w",
        "outputId": "eab89eea-28d8-4b0d-a463-8efbe2cce8db"
      },
      "execution_count": 39,
      "outputs": [
        {
          "output_type": "display_data",
          "data": {
            "text/plain": [
              "<Figure size 432x288 with 1 Axes>"
            ],
            "image/png": "[encoded data removed]"
          },
          "metadata": {
            "needs_background": "light"
          }
        }
      ]
    },
    {
      "cell_type": "markdown",
      "source": [
        "## Splitting Data"
      ],
      "metadata": {
        "id": "Q050KkNdvVVs"
      }
    },
    {
      "cell_type": "code",
      "source": [
        "train_split = int(0.8 * len(X))\n",
        "X_train, y_train = X[:train_split], y[:train_split]\n",
        "X_test, y_test = X[train_split:], y[train_split:]\n",
        "print('X: ', len(X_train), len(X_test))\n",
        "print('y: ', len(y_train), len(y_test))\n"
      ],
      "metadata": {
        "colab": {
          "base_uri": "https://localhost:8080/"
        },
        "id": "DVfaNNZBt1Ri",
        "outputId": "362dd8e5-7237-4d4b-a9c0-b7814d3339f1"
      },
      "execution_count": 43,
      "outputs": [
        {
          "output_type": "stream",
          "name": "stdout",
          "text": [
            "X:  40 10\n",
            "y:  40 10\n"
          ]
        }
      ]
    },
    {
      "cell_type": "code",
      "source": [
        "plt.scatter(X_test, y_test)\n",
        "plt.show()"
      ],
      "metadata": {
        "colab": {
          "base_uri": "https://localhost:8080/",
          "height": 265
        },
        "id": "OtPtY2vlwBLt",
        "outputId": "9778c18c-26d3-4159-dae3-8cbb3b7d19ed"
      },
      "execution_count": 45,
      "outputs": [
        {
          "output_type": "display_data",
          "data": {
            "text/plain": [
              "<Figure size 432x288 with 1 Axes>"
            ],
            "image/png": "[encoded data removed]"
          },
          "metadata": {
            "needs_background": "light"
          }
        }
      ]
    },
    {
      "cell_type": "code",
      "source": [
        ""
      ],
      "metadata": {
        "id": "ODBL-6s-9DTO"
      },
      "execution_count": null,
      "outputs": []
    }
  ]
}